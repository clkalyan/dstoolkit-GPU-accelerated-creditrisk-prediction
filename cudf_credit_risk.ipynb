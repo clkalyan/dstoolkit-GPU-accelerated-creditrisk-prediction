{
  "cells": [
    {
      "cell_type": "code",
      "execution_count": null,
      "metadata": {
        "gather": {
          "logged": 1677768062117
        }
      },
      "outputs": [],
      "source": [
        "import azureml.core\n",
        "from azureml.core import Workspace, Experiment, Environment, ScriptRunConfig\n",
        "from datetime import datetime\n",
        "import os\n",
        "from azureml.core.compute import ComputeTarget, AmlCompute\n",
        "from azureml.core.compute_target import ComputeTargetException\n",
        "from azureml.core import Dataset\n",
        "from azureml.data import OutputFileDatasetConfig\n",
        "from azureml.core import Workspace, Environment\n",
        "from IPython.display import Image\n",
        "\n",
        "use_gpu = True\n",
        "\n",
        "datetime.now()"
      ]
    },
    {
      "cell_type": "code",
      "execution_count": null,
      "metadata": {
        "gather": {
          "logged": 1677768087015
        },
        "jupyter": {
          "outputs_hidden": false,
          "source_hidden": false
        },
        "nteract": {
          "transient": {
            "deleting": false
          }
        }
      },
      "outputs": [],
      "source": [
        "ws = Workspace.from_config()\n",
        "datastore = ws.get_default_datastore()\n",
        "datafldr_path = Dataset.File.from_files(datastore.path('credit_risk_data/')).as_named_input('data').as_mount()\n",
        "output = OutputFileDatasetConfig(destination=(datastore, 'outputs/profiles/')).as_upload(overwrite=True)\n",
        "# years to use for training\n",
        "years = [2007, 2008, 2009]\n",
        "years = \",\".join(map(str, years))"
      ]
    },
    {
      "cell_type": "code",
      "execution_count": null,
      "metadata": {
        "gather": {
          "logged": 1677768088953
        },
        "jupyter": {
          "outputs_hidden": false,
          "source_hidden": false
        },
        "nteract": {
          "transient": {
            "deleting": false
          }
        }
      },
      "outputs": [],
      "source": [
        "ws = Workspace.from_config()\n",
        "print(ws.name, ws.resource_group, ws.location, ws.subscription_id, sep='\\n')\n",
        "\n",
        "datastore = ws.get_default_datastore()\n",
        "print(\"Default datastore's name: {}\".format(datastore.name))"
      ]
    },
    {
      "cell_type": "code",
      "execution_count": null,
      "metadata": {
        "gather": {
          "logged": 1677768089225
        },
        "jupyter": {
          "outputs_hidden": false,
          "source_hidden": false
        },
        "nteract": {
          "transient": {
            "deleting": false
          }
        }
      },
      "outputs": [],
      "source": [
        "experiment_name = 'credit-default-risk-sample'\n",
        "experiment = Experiment(workspace=ws, name=experiment_name)\n"
      ]
    },
    {
      "cell_type": "code",
      "execution_count": null,
      "metadata": {
        "gather": {
          "logged": 1677768089920
        },
        "jupyter": {
          "outputs_hidden": false,
          "source_hidden": false
        },
        "nteract": {
          "transient": {
            "deleting": false
          }
        }
      },
      "outputs": [],
      "source": [
        "if use_gpu:\n",
        "    cluster_name = 'Standard-NC12s-v3' #'gpu-cluster'\n",
        "else:\n",
        "    cluster_name = 'cpu-cluster'\n",
        "\n",
        "if cluster_name in ws.compute_targets:\n",
        "    gpu_cluster = ws.compute_targets[cluster_name]\n",
        "    if gpu_cluster and type(gpu_cluster) is AmlCompute:\n",
        "        print('Found compute target. Will use {0} '.format(cluster_name))\n",
        "else:\n",
        "    print('creating new cluster')\n",
        "    provisioning_config = AmlCompute.provisioning_configuration(vm_size = 'Standard_NC12s_v3',  #'Standard_M128s'\n",
        "                                                                max_nodes = 1,\n",
        "                                                                idle_seconds_before_scaledown = 600,\n",
        "                                                                vm_priority = \"lowpriority\")\n",
        "    \n",
        "    gpu_cluster = ComputeTarget.create(ws, cluster_name, provisioning_config)\n",
        "    gpu_cluster.wait_for_completion(show_output=True, min_node_count=None, timeout_in_minutes=20)\n",
        "    \n",
        "# use get_status() to get a detailed status for the current cluster \n",
        "print(gpu_cluster.get_status().serialize())"
      ]
    },
    {
      "cell_type": "code",
      "execution_count": null,
      "metadata": {
        "gather": {
          "logged": 1677768094009
        },
        "jupyter": {
          "outputs_hidden": false,
          "source_hidden": false
        },
        "nteract": {
          "transient": {
            "deleting": false
          }
        }
      },
      "outputs": [],
      "source": [
        "ws = Workspace.from_config()\n",
        "env_list = Environment.list(ws)\n",
        "env = Environment.get(workspace=ws, name=\"credit-risk\")\n",
        "\n",
        "env.docker.enabled = True\n",
        "env.docker.base_image = None\n",
        "env.python.user_managed_dependencies = True\n",
        "env.environment_variables = None\n",
        "env.python.interpreter_path = \"/opt/conda/envs/rapids/bin/python\"\n"
      ]
    },
    {
      "cell_type": "code",
      "execution_count": null,
      "metadata": {
        "gather": {
          "logged": 1677768499441
        },
        "jupyter": {
          "outputs_hidden": false,
          "source_hidden": false
        },
        "nteract": {
          "transient": {
            "deleting": false
          }
        }
      },
      "outputs": [],
      "source": [
        "config = ScriptRunConfig(source_directory=\"./src\", script=\"crs_main.py\", compute_target=gpu_cluster, environment=env, \n",
        "    arguments =[years],\n",
        ")\n",
        "run = experiment.submit(config)\n",
        "print(run)\n",
        "\n",
        "print(run.wait_for_completion(show_output=True))"
      ]
    },
    {
      "cell_type": "code",
      "execution_count": null,
      "metadata": {
        "gather": {
          "logged": 1677768499987
        },
        "jupyter": {
          "outputs_hidden": false,
          "source_hidden": false
        },
        "nteract": {
          "transient": {
            "deleting": false
          }
        }
      },
      "outputs": [],
      "source": [
        "metrics = run.get_metrics()\n",
        "metrics"
      ]
    },
    {
      "cell_type": "code",
      "execution_count": null,
      "metadata": {
        "gather": {
          "logged": 1677768500243
        },
        "jupyter": {
          "outputs_hidden": false,
          "source_hidden": false
        },
        "nteract": {
          "transient": {
            "deleting": false
          }
        }
      },
      "outputs": [],
      "source": [
        "run.get_file_names()"
      ]
    },
    {
      "cell_type": "code",
      "execution_count": null,
      "metadata": {
        "gather": {
          "logged": 1677768501983
        },
        "jupyter": {
          "outputs_hidden": false,
          "source_hidden": false
        },
        "nteract": {
          "transient": {
            "deleting": false
          }
        }
      },
      "outputs": [],
      "source": [
        "os.makedirs('files', exist_ok=True)\n",
        "\n",
        "for f in run.get_file_names():\n",
        "    if not f.startswith('assets'):\n",
        "        continue\n",
        "    dest = os.path.join('files', f.split('/')[-1])\n",
        "    print('Downloading file {} to {}...'.format(f, dest))\n",
        "    run.download_file(f, dest)   \n"
      ]
    },
    {
      "cell_type": "code",
      "execution_count": null,
      "metadata": {
        "gather": {
          "logged": 1677768503084
        },
        "jupyter": {
          "outputs_hidden": false,
          "source_hidden": false
        },
        "nteract": {
          "transient": {
            "deleting": false
          }
        }
      },
      "outputs": [],
      "source": [
        "Image(filename='files/shap.png') "
      ]
    }
  ],
  "metadata": {
    "kernel_info": {
      "name": "python38-azureml"
    },
    "kernelspec": {
      "display_name": "base",
      "language": "python",
      "name": "python3"
    },
    "language_info": {
      "codemirror_mode": {
        "name": "ipython",
        "version": 3
      },
      "file_extension": ".py",
      "mimetype": "text/x-python",
      "name": "python",
      "nbconvert_exporter": "python",
      "pygments_lexer": "ipython3",
      "version": "3.9.1"
    },
    "microsoft": {
      "host": {
        "AzureML": {
          "notebookHasBeenCompleted": true
        }
      },
      "ms_spell_check": {
        "ms_spell_check_language": "en"
      }
    },
    "nteract": {
      "version": "nteract-front-end@1.0.0"
    }
  },
  "nbformat": 4,
  "nbformat_minor": 2
}
